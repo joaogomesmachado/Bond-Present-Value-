{
 "cells": [
  {
   "cell_type": "code",
   "execution_count": 1,
   "id": "e83718f9",
   "metadata": {},
   "outputs": [
    {
     "name": "stdout",
     "output_type": "stream",
     "text": [
      "Collecting pandas_market_calendars\n",
      "  Downloading pandas_market_calendars-4.1.4-py3-none-any.whl (98 kB)\n",
      "\u001b[2K     \u001b[90m━━━━━━━━━━━━━━━━━━━━━━━━━━━━━━━━━━━━━━━━\u001b[0m \u001b[32m98.9/98.9 kB\u001b[0m \u001b[31m2.3 MB/s\u001b[0m eta \u001b[36m0:00:00\u001b[0ma \u001b[36m0:00:01\u001b[0m\n",
      "\u001b[?25hRequirement already satisfied: python-dateutil in ./opt/anaconda3/lib/python3.9/site-packages (from pandas_market_calendars) (2.8.2)\n",
      "Requirement already satisfied: pandas>=1.1 in ./opt/anaconda3/lib/python3.9/site-packages (from pandas_market_calendars) (1.4.4)\n",
      "Collecting exchange-calendars>=3.3\n",
      "  Downloading exchange_calendars-4.2.8-py3-none-any.whl (191 kB)\n",
      "\u001b[2K     \u001b[90m━━━━━━━━━━━━━━━━━━━━━━━━━━━━━━━━━━━━━━━\u001b[0m \u001b[32m191.4/191.4 kB\u001b[0m \u001b[31m3.1 MB/s\u001b[0m eta \u001b[36m0:00:00\u001b[0ma \u001b[36m0:00:01\u001b[0m\n",
      "\u001b[?25hRequirement already satisfied: pytz in ./opt/anaconda3/lib/python3.9/site-packages (from pandas_market_calendars) (2023.3)\n",
      "Requirement already satisfied: numpy in ./opt/anaconda3/lib/python3.9/site-packages (from exchange-calendars>=3.3->pandas_market_calendars) (1.21.5)\n",
      "Collecting korean-lunar-calendar\n",
      "  Downloading korean_lunar_calendar-0.3.1-py3-none-any.whl (9.0 kB)\n",
      "Collecting pyluach\n",
      "  Downloading pyluach-2.2.0-py3-none-any.whl (25 kB)\n",
      "Requirement already satisfied: toolz in ./opt/anaconda3/lib/python3.9/site-packages (from exchange-calendars>=3.3->pandas_market_calendars) (0.11.2)\n",
      "Requirement already satisfied: six>=1.5 in ./opt/anaconda3/lib/python3.9/site-packages (from python-dateutil->pandas_market_calendars) (1.16.0)\n",
      "Installing collected packages: korean-lunar-calendar, pyluach, exchange-calendars, pandas_market_calendars\n",
      "Successfully installed exchange-calendars-4.2.8 korean-lunar-calendar-0.3.1 pandas_market_calendars-4.1.4 pyluach-2.2.0\n",
      "Note: you may need to restart the kernel to use updated packages.\n"
     ]
    }
   ],
   "source": [
    "'''\n",
    "instalando o Pandas Market Calendars\n",
    "https://pypi.org/project/pandas-market-calendars/\n",
    "'''\n",
    "pip install pandas_market_calendars\n",
    "\n"
   ]
  },
  {
   "cell_type": "code",
   "execution_count": 12,
   "id": "e92a35ed",
   "metadata": {},
   "outputs": [
    {
     "name": "stdout",
     "output_type": "stream",
     "text": [
      "o numero de dias uteis é: 251\n"
     ]
    }
   ],
   "source": [
    "import pandas as pd\n",
    "import pandas_market_calendars as pdmc\n",
    "\n",
    "#função para calcular dias uteis\n",
    "def dias_uteis_anbima(data_inicial, data_final): \n",
    "    \n",
    "    #Calendario B3\n",
    "    anbima = pdmc.get_calendar('B3') \n",
    "    \n",
    "    #ver quais são os dias uteis entre a data inicial e final\n",
    "    datas = anbima.valid_days(start_date=data_inicial, end_date=data_final)\n",
    "\n",
    "    #contabilizar os dias uteis\n",
    "    dias_uteis = len(datas)\n",
    "    \n",
    "    return dias_uteis\n",
    "#O standard usado pela biblioteca é 'yyyy-mm-dd'\n",
    "start_date = \"2022-12-20\"\n",
    "final_date = \"2023-12-20\"\n",
    "\n",
    "exemplo = dias_uteis_anbima(start_date, final_date)\n",
    "print(f\"o numero de dias uteis é: {exemplo}\")\n",
    "\n",
    "\n"
   ]
  },
  {
   "cell_type": "code",
   "execution_count": null,
   "id": "555bea89",
   "metadata": {},
   "outputs": [],
   "source": [
    "#tickers \n",
    "['ASX', 'BMF', 'B3', 'CFE', 'CBOE_Futures', 'CBOE_Equity_Options', 'CBOE_Index_Options', 'CME_Equity', 'CBOT_Equity', 'CME_Agriculture', 'CBOT_Agriculture', 'COMEX_Agriculture', 'NYMEX_Agriculture', 'CME_Rate', 'CBOT_Rate', 'CME_InterestRate', 'CBOT_InterestRate', 'CME_Bond', 'CBOT_Bond', 'CMEGlobex_Livestock', 'CMEGlobex_Live_Cattle', 'CMEGlobex_Feeder_Cattle', 'CMEGlobex_Lean_Hog', 'CMEGlobex_Port_Cutout', 'CMEGlobex_FX', 'CME_FX', 'CME_Currency', 'CMEGlobex_EnergyAndMetals', 'CMEGlobex_Energy', 'CMEGlobex_CrudeAndRefined', 'CMEGlobex_NYHarbor', 'CMEGlobex_HO', 'HO', 'CMEGlobex_Crude', 'CMEGlobex_CL', 'CL', 'CMEGlobex_Gas', 'CMEGlobex_RB', 'RB', 'CMEGlobex_MicroCrude', 'CMEGlobex_MCL', 'MCL', 'CMEGlobex_NatGas', 'CMEGlobex_NG', 'NG', 'CMEGlobex_Dutch_NatGas', 'CMEGlobex_TTF', 'TTF', 'CMEGlobex_LastDay_NatGas', 'CMEGlobex_NN', 'NN', 'CMEGlobex_CarbonOffset', 'CMEGlobex_CGO', 'CGO', 'C-GEO', 'CMEGlobex_NGO', 'NGO', 'CMEGlobex_GEO', 'GEO', 'CMEGlobex_Metals', 'CMEGlobex_PreciousMetals', 'CMEGlobex_Gold', 'CMEGlobex_GC', 'GC', 'CMEGlobex_SilverCMEGlobex_SI', 'SI', 'CMEGlobex_Platinum', 'CMEGlobex_PL', 'PL', 'CMEGlobex_BaseMetals', 'CMEGlobex_Copper', 'CMEGlobex_HG', 'HG', 'CMEGlobex_Aluminum', 'CMEGlobex_ALI', 'ALI', 'CMEGlobex_QC', 'QC', 'CMEGlobex_FerrousMetals', 'CMEGlobex_HRC', 'HRC', 'CMEGlobex_BUS', 'BUS', 'CMEGlobex_TIO', 'TIO', 'CME Globex Equity', 'CME Globex Fixed Income', 'CME Globex Interest Rate Products', 'EUREX', 'HKEX', 'ICE', 'ICEUS', 'NYFE', 'NYSE', 'stock', 'NASDAQ', 'BATS', 'DJIA', 'DOW', 'IEX', 'Investors_Exchange', 'JPX', 'LSE', 'OSE', 'SIFMAUS', 'SIFMA_US', 'Capital_Markets_US', 'Financial_Markets_US', 'Bond_Markets_US', 'SIFMAUK', 'SIFMA_UK', 'Capital_Markets_UK', 'Financial_Markets_UK', 'Bond_Markets_UK', 'SIFMAJP', 'SIFMA_JP', 'Capital_Markets_JP', 'Financial_Markets_JP', 'Bond_Markets_JP', 'SIX', 'SSE', 'TSX', 'TSXV', 'BSE', 'NSE', 'TASE', 'TradingCalendar', 'AIXK', 'ASEX', 'BVMF', 'CMES', 'IEPA', 'XAMS', 'XASX', 'XBKK', 'XBOG', 'XBOM', 'XBRU', 'XBSE', 'XBUD', 'XBUE', 'XCBF', 'XCSE', 'XDUB', 'XFRA', 'XETR', 'XHEL', 'XHKG', 'XICE', 'XIDX', 'XIST', 'XJSE', 'XKAR', 'XKLS', 'XKRX', 'XLIM', 'XLIS', 'XLON', 'XMAD', 'XMEX', 'XMIL', 'XMOS', 'XNYS', 'XNZE', 'XOSL', 'XPAR', 'XPHS', 'XPRA', 'XSAU', 'XSES', 'XSGO', 'XSHG', 'XSTO', 'XSWX', 'XTAE', 'XTAI', 'XTKS', 'XTSE', 'XWAR', 'XWBO', 'us_futures', '24/7', '24/5'])"
   ]
  },
  {
   "cell_type": "code",
   "execution_count": 24,
   "id": "833d064d",
   "metadata": {},
   "outputs": [
    {
     "name": "stdout",
     "output_type": "stream",
     "text": [
      "Valor presente do título: 127.45065966010095\n"
     ]
    }
   ],
   "source": [
    "# Função para calcular o valor presente de um título público com cupom\n",
    "def calcular_valor_presente_titulo(face_value, coupon_rate, years_to_maturity, discount_rate, cupom_periodicidade):\n",
    "    # Calcular o número de períodos de cupom\n",
    "    if cupom_periodicidade == \"anual\":\n",
    "        num_cupom_periods = years_to_maturity\n",
    "    elif cupom_periodicidade == \"quadrimestral\":\n",
    "        num_cupom_periods = years_to_maturity * 3\n",
    "    elif cupom_periodicidade == \"mensal\":\n",
    "        num_cupom_periods = years_to_maturity * 12\n",
    "    \n",
    "    # Calcular o valor presente dos cupons futuros (soma dos pagamentos de cupom descontados)\n",
    "    present_value_coupons = sum((face_value * coupon_rate) / (1 + discount_rate)**i for i in range(1, num_cupom_periods + 1))\n",
    "    \n",
    "    # Calcular o valor presente do valor nominal no vencimento\n",
    "    present_value_maturity = face_value / (1 + discount_rate)**years_to_maturity\n",
    "    \n",
    "    # Calcular o valor presente total do título (soma do valor presente dos cupons futuros e do valor presente do valor nominal)\n",
    "    present_value = present_value_coupons + present_value_maturity\n",
    "    \n",
    "    return present_value\n",
    "\n",
    "# Exemplo de uso da função para calcular o valor presente de um título público com cupom anual\n",
    "face_value = 1000 # Valor nominal do título\n",
    "coupon_rate =0.1  # Taxa de cupom do título\n",
    "years_to_maturity = 10 # Número de anos até o vencimento\n",
    "discount_rate = 0.8 # Taxa de desconto\n",
    "cupom_periodicidade =\"anual\" # Periodicidade dos pagamentos de cupom\n",
    "\n",
    "present_value = calcular_valor_presente_titulo(face_value, coupon_rate, years_to_maturity, discount_rate, cupom_periodicidade)\n",
    "\n",
    "# Exibir o valor presente do título\n",
    "print(\"Valor presente do título:\", present_value)\n"
   ]
  },
  {
   "cell_type": "code",
   "execution_count": null,
   "id": "811a8fb7",
   "metadata": {},
   "outputs": [],
   "source": []
  }
 ],
 "metadata": {
  "kernelspec": {
   "display_name": "Python 3 (ipykernel)",
   "language": "python",
   "name": "python3"
  },
  "language_info": {
   "codemirror_mode": {
    "name": "ipython",
    "version": 3
   },
   "file_extension": ".py",
   "mimetype": "text/x-python",
   "name": "python",
   "nbconvert_exporter": "python",
   "pygments_lexer": "ipython3",
   "version": "3.9.13"
  }
 },
 "nbformat": 4,
 "nbformat_minor": 5
}
